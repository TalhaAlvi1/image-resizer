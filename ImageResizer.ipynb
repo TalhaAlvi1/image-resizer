from PIL import Image
import os

def resize_image(output_path, width, height):
    """
    Resize an image uploaded from local storage to the specified width and height.
    :param output_path: Path to save the resized image.
    :param width: Desired width of the output image.
    :param height: Desired height of the output image.
    """
    try:
        input_path = input("Enter the full path of the image: ").strip()
        
        if not os.path.exists(input_path):
            print("File not found. Please check the path and try again.")
            return
        
        with Image.open(input_path) as img:
            resized_img = img.resize((width, height), Image.LANCZOS)  # Replacing ANTIALIAS with LANCZOS
            resized_img.save(output_path)
            print(f"Image successfully resized and saved to {output_path}")
    except Exception as e:
        print(f"Error: {e}")

# Example usage
resize_image("output.jpg", 300, 300)
